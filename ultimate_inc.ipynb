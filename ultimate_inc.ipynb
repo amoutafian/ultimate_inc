{
 "cells": [
  {
   "cell_type": "code",
   "execution_count": 55,
   "id": "a1d8b83d-addf-4c63-877e-a580952c4f7b",
   "metadata": {},
   "outputs": [],
   "source": [
    "import pandas as pd\n",
    "import matplotlib.pyplot as plt\n",
    "import seaborn as sns\n",
    "import numpy as np\n",
    "#data prep\n",
    "from sklearn.preprocessing import StandardScaler\n",
    "\n",
    "#modeling \n",
    "from sklearn.model_selection import train_test_split\n",
    "from sklearn.linear_model import LogisticRegression\n",
    "from sklearn.ensemble import RandomForestClassifier\n",
    "\n",
    "#model assessment\n",
    "from sklearn.metrics import accuracy_score, f1_score, precision_score, recall_score\n",
    "from sklearn.metrics import classification_report\n",
    "from sklearn.metrics import confusion_matrix"
   ]
  },
  {
   "cell_type": "markdown",
   "id": "e002a111-8af0-44de-92fc-da6863b445cc",
   "metadata": {},
   "source": [
    "# Part 1 Exploratory Data Analysis\n"
   ]
  },
  {
   "cell_type": "code",
   "execution_count": 2,
   "id": "5db34137-53d8-43b2-96b9-2d4d9b74b71c",
   "metadata": {},
   "outputs": [],
   "source": [
    "data_df = pd.read_json('logins.json')"
   ]
  },
  {
   "cell_type": "code",
   "execution_count": 3,
   "id": "82a8a61f-7b09-4214-b263-5422b049fe62",
   "metadata": {},
   "outputs": [
    {
     "name": "stdout",
     "output_type": "stream",
     "text": [
      "<class 'pandas.core.frame.DataFrame'>\n",
      "RangeIndex: 93142 entries, 0 to 93141\n",
      "Data columns (total 1 columns):\n",
      " #   Column      Non-Null Count  Dtype         \n",
      "---  ------      --------------  -----         \n",
      " 0   login_time  93142 non-null  datetime64[ns]\n",
      "dtypes: datetime64[ns](1)\n",
      "memory usage: 727.8 KB\n"
     ]
    }
   ],
   "source": [
    "data_df.info()"
   ]
  },
  {
   "cell_type": "code",
   "execution_count": 4,
   "id": "857d26ed-d106-49e5-b5da-6f5f45a051d8",
   "metadata": {},
   "outputs": [
    {
     "data": {
      "text/plain": [
       "<bound method NDFrame.describe of                login_time\n",
       "0     1970-01-01 20:13:18\n",
       "1     1970-01-01 20:16:10\n",
       "2     1970-01-01 20:16:37\n",
       "3     1970-01-01 20:16:36\n",
       "4     1970-01-01 20:26:21\n",
       "...                   ...\n",
       "93137 1970-04-13 18:50:19\n",
       "93138 1970-04-13 18:43:56\n",
       "93139 1970-04-13 18:54:02\n",
       "93140 1970-04-13 18:57:38\n",
       "93141 1970-04-13 18:54:23\n",
       "\n",
       "[93142 rows x 1 columns]>"
      ]
     },
     "execution_count": 4,
     "metadata": {},
     "output_type": "execute_result"
    }
   ],
   "source": [
    "data_df.describe"
   ]
  },
  {
   "cell_type": "code",
   "execution_count": 5,
   "id": "2daa8bc0-d17f-46c2-a096-693edf8a5d56",
   "metadata": {},
   "outputs": [
    {
     "data": {
      "text/plain": [
       "dtype('<M8[ns]')"
      ]
     },
     "execution_count": 5,
     "metadata": {},
     "output_type": "execute_result"
    }
   ],
   "source": [
    "data_df['login_time'].dtype"
   ]
  },
  {
   "cell_type": "code",
   "execution_count": 6,
   "id": "e93e878f-d472-45ad-9b3c-88780c45318e",
   "metadata": {},
   "outputs": [],
   "source": [
    "data_df.set_index('login_time', inplace = True)"
   ]
  },
  {
   "cell_type": "code",
   "execution_count": 7,
   "id": "773d6a7e-2517-4231-81b6-0ecba9b72008",
   "metadata": {},
   "outputs": [
    {
     "data": {
      "text/html": [
       "<div>\n",
       "<style scoped>\n",
       "    .dataframe tbody tr th:only-of-type {\n",
       "        vertical-align: middle;\n",
       "    }\n",
       "\n",
       "    .dataframe tbody tr th {\n",
       "        vertical-align: top;\n",
       "    }\n",
       "\n",
       "    .dataframe thead th {\n",
       "        text-align: right;\n",
       "    }\n",
       "</style>\n",
       "<table border=\"1\" class=\"dataframe\">\n",
       "  <thead>\n",
       "    <tr style=\"text-align: right;\">\n",
       "      <th></th>\n",
       "    </tr>\n",
       "    <tr>\n",
       "      <th>login_time</th>\n",
       "    </tr>\n",
       "  </thead>\n",
       "  <tbody>\n",
       "    <tr>\n",
       "      <th>1970-01-01 20:13:18</th>\n",
       "    </tr>\n",
       "    <tr>\n",
       "      <th>1970-01-01 20:16:10</th>\n",
       "    </tr>\n",
       "    <tr>\n",
       "      <th>1970-01-01 20:16:37</th>\n",
       "    </tr>\n",
       "    <tr>\n",
       "      <th>1970-01-01 20:16:36</th>\n",
       "    </tr>\n",
       "    <tr>\n",
       "      <th>1970-01-01 20:26:21</th>\n",
       "    </tr>\n",
       "  </tbody>\n",
       "</table>\n",
       "</div>"
      ],
      "text/plain": [
       "Empty DataFrame\n",
       "Columns: []\n",
       "Index: [1970-01-01 20:13:18, 1970-01-01 20:16:10, 1970-01-01 20:16:37, 1970-01-01 20:16:36, 1970-01-01 20:26:21]"
      ]
     },
     "execution_count": 7,
     "metadata": {},
     "output_type": "execute_result"
    }
   ],
   "source": [
    "data_df.head()"
   ]
  },
  {
   "cell_type": "code",
   "execution_count": 8,
   "id": "6226cfd5-bb92-44cf-8c15-0d1afe1932cc",
   "metadata": {},
   "outputs": [
    {
     "data": {
      "text/plain": [
       "dtype('<M8[ns]')"
      ]
     },
     "execution_count": 8,
     "metadata": {},
     "output_type": "execute_result"
    }
   ],
   "source": [
    "data_df.index.dtype"
   ]
  },
  {
   "cell_type": "code",
   "execution_count": 9,
   "id": "763fc7a8-2822-49f3-a3b1-0ad01fabfb26",
   "metadata": {},
   "outputs": [
    {
     "data": {
      "text/html": [
       "<div>\n",
       "<style scoped>\n",
       "    .dataframe tbody tr th:only-of-type {\n",
       "        vertical-align: middle;\n",
       "    }\n",
       "\n",
       "    .dataframe tbody tr th {\n",
       "        vertical-align: top;\n",
       "    }\n",
       "\n",
       "    .dataframe thead th {\n",
       "        text-align: right;\n",
       "    }\n",
       "</style>\n",
       "<table border=\"1\" class=\"dataframe\">\n",
       "  <thead>\n",
       "    <tr style=\"text-align: right;\">\n",
       "      <th></th>\n",
       "      <th>count</th>\n",
       "    </tr>\n",
       "    <tr>\n",
       "      <th>login_time</th>\n",
       "      <th></th>\n",
       "    </tr>\n",
       "  </thead>\n",
       "  <tbody>\n",
       "    <tr>\n",
       "      <th>1970-04-13 18:16:48</th>\n",
       "      <td>1</td>\n",
       "    </tr>\n",
       "    <tr>\n",
       "      <th>1970-04-13 18:18:26</th>\n",
       "      <td>1</td>\n",
       "    </tr>\n",
       "    <tr>\n",
       "      <th>1970-04-13 18:35:43</th>\n",
       "      <td>1</td>\n",
       "    </tr>\n",
       "    <tr>\n",
       "      <th>1970-04-13 18:36:53</th>\n",
       "      <td>1</td>\n",
       "    </tr>\n",
       "    <tr>\n",
       "      <th>1970-04-13 18:36:55</th>\n",
       "      <td>1</td>\n",
       "    </tr>\n",
       "    <tr>\n",
       "      <th>1970-04-13 18:40:31</th>\n",
       "      <td>1</td>\n",
       "    </tr>\n",
       "    <tr>\n",
       "      <th>1970-04-13 18:40:40</th>\n",
       "      <td>1</td>\n",
       "    </tr>\n",
       "    <tr>\n",
       "      <th>1970-04-13 18:43:19</th>\n",
       "      <td>1</td>\n",
       "    </tr>\n",
       "    <tr>\n",
       "      <th>1970-04-13 18:43:56</th>\n",
       "      <td>1</td>\n",
       "    </tr>\n",
       "    <tr>\n",
       "      <th>1970-04-13 18:46:06</th>\n",
       "      <td>1</td>\n",
       "    </tr>\n",
       "    <tr>\n",
       "      <th>1970-04-13 18:48:52</th>\n",
       "      <td>1</td>\n",
       "    </tr>\n",
       "    <tr>\n",
       "      <th>1970-04-13 18:50:19</th>\n",
       "      <td>1</td>\n",
       "    </tr>\n",
       "    <tr>\n",
       "      <th>1970-04-13 18:54:02</th>\n",
       "      <td>1</td>\n",
       "    </tr>\n",
       "    <tr>\n",
       "      <th>1970-04-13 18:54:23</th>\n",
       "      <td>1</td>\n",
       "    </tr>\n",
       "    <tr>\n",
       "      <th>1970-04-13 18:57:38</th>\n",
       "      <td>1</td>\n",
       "    </tr>\n",
       "  </tbody>\n",
       "</table>\n",
       "</div>"
      ],
      "text/plain": [
       "                     count\n",
       "login_time                \n",
       "1970-04-13 18:16:48      1\n",
       "1970-04-13 18:18:26      1\n",
       "1970-04-13 18:35:43      1\n",
       "1970-04-13 18:36:53      1\n",
       "1970-04-13 18:36:55      1\n",
       "1970-04-13 18:40:31      1\n",
       "1970-04-13 18:40:40      1\n",
       "1970-04-13 18:43:19      1\n",
       "1970-04-13 18:43:56      1\n",
       "1970-04-13 18:46:06      1\n",
       "1970-04-13 18:48:52      1\n",
       "1970-04-13 18:50:19      1\n",
       "1970-04-13 18:54:02      1\n",
       "1970-04-13 18:54:23      1\n",
       "1970-04-13 18:57:38      1"
      ]
     },
     "execution_count": 9,
     "metadata": {},
     "output_type": "execute_result"
    }
   ],
   "source": [
    "data_df['count'] = 1\n",
    "sorted_df = data_df.sort_index()\n",
    "sorted_df.tail(15)"
   ]
  },
  {
   "cell_type": "code",
   "execution_count": 10,
   "id": "c1809f0b-5f79-478b-8a5e-8a71e9a6505c",
   "metadata": {},
   "outputs": [
    {
     "data": {
      "text/plain": [
       "<bound method DataFrame.info of                      count\n",
       "login_time                \n",
       "1970-01-01 20:00:00      2\n",
       "1970-01-01 20:15:00      6\n",
       "1970-01-01 20:30:00      9\n",
       "1970-01-01 20:45:00      7\n",
       "1970-01-01 21:00:00      1\n",
       "...                    ...\n",
       "1970-04-13 17:45:00      5\n",
       "1970-04-13 18:00:00      5\n",
       "1970-04-13 18:15:00      2\n",
       "1970-04-13 18:30:00      7\n",
       "1970-04-13 18:45:00      6\n",
       "\n",
       "[9788 rows x 1 columns]>"
      ]
     },
     "execution_count": 10,
     "metadata": {},
     "output_type": "execute_result"
    }
   ],
   "source": [
    "resampled_df = sorted_df.resample('15T').sum()\n",
    "resampled_df.info"
   ]
  },
  {
   "cell_type": "code",
   "execution_count": 11,
   "id": "41acc15a-c860-4900-aacb-19e52dbe6268",
   "metadata": {},
   "outputs": [
    {
     "data": {
      "text/plain": [
       "dtype('<M8[ns]')"
      ]
     },
     "execution_count": 11,
     "metadata": {},
     "output_type": "execute_result"
    }
   ],
   "source": [
    "resampled_df = resampled_df.reset_index()\n",
    "resampled_df['login_time'].dtype"
   ]
  },
  {
   "cell_type": "code",
   "execution_count": 12,
   "id": "cefe3e70-ea2b-4321-ab98-673bbe5c1acb",
   "metadata": {},
   "outputs": [
    {
     "data": {
      "text/plain": [
       "<bound method DataFrame.info of             count\n",
       "login_time       \n",
       "1970-01-04   2374\n",
       "1970-01-11   5217\n",
       "1970-01-18   5023\n",
       "1970-01-25   4751\n",
       "1970-02-01   4744\n",
       "1970-02-08   5572\n",
       "1970-02-15   5915\n",
       "1970-02-22   7035\n",
       "1970-03-01   6554\n",
       "1970-03-08   7398\n",
       "1970-03-15   7338\n",
       "1970-03-22   8955\n",
       "1970-03-29   7285\n",
       "1970-04-05   8095\n",
       "1970-04-12   6491\n",
       "1970-04-19    395>"
      ]
     },
     "execution_count": 12,
     "metadata": {},
     "output_type": "execute_result"
    }
   ],
   "source": [
    "weekly_mean = sorted_df.resample('W').count()\n",
    "weekly_mean.info"
   ]
  },
  {
   "cell_type": "code",
   "execution_count": 13,
   "id": "cb5993a8-18e2-496b-a95e-0e7b784fd61d",
   "metadata": {},
   "outputs": [
    {
     "data": {
      "text/plain": [
       "dtype('<M8[ns]')"
      ]
     },
     "execution_count": 13,
     "metadata": {},
     "output_type": "execute_result"
    }
   ],
   "source": [
    "weekly_mean = weekly_mean.reset_index()\n",
    "weekly_mean['login_time'].dtype"
   ]
  },
  {
   "cell_type": "code",
   "execution_count": 14,
   "id": "674afcd0-af42-46bf-861e-74dfeace339c",
   "metadata": {},
   "outputs": [],
   "source": [
    "resampled_df.to_csv('ultimate.csv')"
   ]
  },
  {
   "cell_type": "markdown",
   "id": "7a2891e0-7d1a-4d61-a93f-8002422d6a39",
   "metadata": {},
   "source": [
    "![alt text](ultimate_dashboard_2.png \"\")"
   ]
  },
  {
   "cell_type": "markdown",
   "id": "dfbfa036-792f-401e-af03-6963f1ab1edd",
   "metadata": {},
   "source": [
    "![](ultimate_counts_by_hour.png \"\")"
   ]
  },
  {
   "cell_type": "markdown",
   "id": "4d44cdd9-c71a-47cd-b0ac-bf21365fc1a5",
   "metadata": {},
   "source": [
    "## Part 1 Exploratory Data Analysis Conclusion:\n",
    "No apparent data quality issues. All logins fall between 1970-01-01 20:12:16 and 1970-04-13 18:57:38\t\t\t\n",
    "There are no null values. All login values in datatype '<M8[ns]'\n",
    "\n",
    "There is an upward trend upward in login counts over the time period covered by the data. Additionally, strong weekly cycles are shown in that Fridays, Saturdays, and Sundays have consistently higher login counts than other days. Viewing login counts by day, both aggregated and unaggregated, show daily trends with low logins in the early morning, afternoon and evening. \n",
    "\n",
    "Note: In the two charts that look at weeks, the first and final (incomplete) weeks are not shown. "
   ]
  },
  {
   "cell_type": "code",
   "execution_count": 15,
   "id": "b8638224-2b00-4021-8c4c-18684506afcb",
   "metadata": {},
   "outputs": [],
   "source": [
    "#![alt text](ultimate_dashboard_2.png \"\")"
   ]
  },
  {
   "cell_type": "markdown",
   "id": "4f954931-a6f8-4762-bccd-8f4ab223ef6e",
   "metadata": {},
   "source": [
    "# Part 2 Experiment and Metrics Design"
   ]
  },
  {
   "cell_type": "code",
   "execution_count": null,
   "id": "2b05f576-8de9-41cc-9141-58446a132eb9",
   "metadata": {},
   "outputs": [],
   "source": []
  },
  {
   "cell_type": "markdown",
   "id": "ea371c2b-6279-4c5b-8dac-2e4fb77f924c",
   "metadata": {},
   "source": [
    "1) The purpose of the experiment is to encourage drivers to serve both cities, so a key measure of success could be the ratio of trips in each city, per working day, per driver.\n",
    "\n",
    "2)\n",
    "    a) The proposed experiment is to offer free toll reimbursement a percentage of drivers. The drivers should be selected randomly. This could be done using driver id numbers and a random number generator. The number of drivers should be selected using sample size calculations after defining significance level(.05) and power (0.8). The experiment should run for 4-6 weeks to account for variance, allow time for driver behavior modification, and to show weekly patterns. At the end of the experiment period, the ratio of Gotham trips/Astapor trips taken by reimbursed drivers can be compared to the same ratio in the control group (not reimbursed drivers)\n",
    "\n",
    "    b) As we have two groups of drivers (reimbursed and control), we can use a two sample t-test to calculate the t value, how far a sample statistic (reimbursed ratio) is from the specified population parameter (control ratio).\n",
    "\n",
    "    c) If the p value from the t-test is statistically significant (below our defined 0.05 significance level, we can reject the null hypothesis that there is no difference between the ratio of trips for both groups. These result suggest that reimbursement has a positive effect on encouraging drivers to serve both cities.\n",
    "        If experiment results are positive and statistically significant, we can recommend that the program is likely effective at encouraging drivers to serve both cities.  This recommendation comes with the caveat that external factors including gas prices, seasonal changes, etc are not considered in this experiment and may change driver behavior.\n",
    "\n",
    "  Further analysis should be done comparing costs effectiveness of the scheme. A survey of drivers may add insights into reasons for willingness or reluctance to serve both cities. Overall trips (as opposed to city service ratio) may also be compared between the treatment and control groups, or even between the control groups trip count prior to, and during the experiment for additional insights. "
   ]
  },
  {
   "cell_type": "markdown",
   "id": "34bb3728-cf56-4db0-8857-1152c96cb69a",
   "metadata": {},
   "source": [
    "# Part 3 Predictive Modeling"
   ]
  },
  {
   "cell_type": "code",
   "execution_count": 16,
   "id": "34b46105-9aa8-4b70-bee1-a96f32859fd3",
   "metadata": {},
   "outputs": [],
   "source": [
    "## Introduction"
   ]
  },
  {
   "cell_type": "markdown",
   "id": "7a084312-32f3-4c9a-82f3-7936d0fb0ff2",
   "metadata": {},
   "source": [
    "The purpose of this analysis is to predict a modol to which helps Ultimate determine whether or not a user witll  be active in their 6th month on the system given the features recorded in the provided dataset. \n",
    "\n",
    "\"Active\" or \"retained\" users are defined here as those who took a trip in the preceding 30 days. This analysis is taking this definition to mean \"in the 30 days preceding the most recent trip in the dataset\""
   ]
  },
  {
   "cell_type": "markdown",
   "id": "d8421540-5d77-4cc5-bdf9-f6614d0d5994",
   "metadata": {},
   "source": [
    "## 1) Cleaning and exploratory analysis"
   ]
  },
  {
   "cell_type": "code",
   "execution_count": 17,
   "id": "940a5974-6cee-403a-99f3-cc5254353ea0",
   "metadata": {},
   "outputs": [
    {
     "data": {
      "text/html": [
       "<div>\n",
       "<style scoped>\n",
       "    .dataframe tbody tr th:only-of-type {\n",
       "        vertical-align: middle;\n",
       "    }\n",
       "\n",
       "    .dataframe tbody tr th {\n",
       "        vertical-align: top;\n",
       "    }\n",
       "\n",
       "    .dataframe thead th {\n",
       "        text-align: right;\n",
       "    }\n",
       "</style>\n",
       "<table border=\"1\" class=\"dataframe\">\n",
       "  <thead>\n",
       "    <tr style=\"text-align: right;\">\n",
       "      <th></th>\n",
       "      <th>city</th>\n",
       "      <th>trips_in_first_30_days</th>\n",
       "      <th>signup_date</th>\n",
       "      <th>avg_rating_of_driver</th>\n",
       "      <th>avg_surge</th>\n",
       "      <th>last_trip_date</th>\n",
       "      <th>phone</th>\n",
       "      <th>surge_pct</th>\n",
       "      <th>ultimate_black_user</th>\n",
       "      <th>weekday_pct</th>\n",
       "      <th>avg_dist</th>\n",
       "      <th>avg_rating_by_driver</th>\n",
       "    </tr>\n",
       "  </thead>\n",
       "  <tbody>\n",
       "    <tr>\n",
       "      <th>0</th>\n",
       "      <td>King's Landing</td>\n",
       "      <td>4</td>\n",
       "      <td>2014-01-25</td>\n",
       "      <td>4.7</td>\n",
       "      <td>1.10</td>\n",
       "      <td>2014-06-17</td>\n",
       "      <td>iPhone</td>\n",
       "      <td>15.4</td>\n",
       "      <td>True</td>\n",
       "      <td>46.2</td>\n",
       "      <td>3.67</td>\n",
       "      <td>5.0</td>\n",
       "    </tr>\n",
       "    <tr>\n",
       "      <th>1</th>\n",
       "      <td>Astapor</td>\n",
       "      <td>0</td>\n",
       "      <td>2014-01-29</td>\n",
       "      <td>5.0</td>\n",
       "      <td>1.00</td>\n",
       "      <td>2014-05-05</td>\n",
       "      <td>Android</td>\n",
       "      <td>0.0</td>\n",
       "      <td>False</td>\n",
       "      <td>50.0</td>\n",
       "      <td>8.26</td>\n",
       "      <td>5.0</td>\n",
       "    </tr>\n",
       "    <tr>\n",
       "      <th>2</th>\n",
       "      <td>Astapor</td>\n",
       "      <td>3</td>\n",
       "      <td>2014-01-06</td>\n",
       "      <td>4.3</td>\n",
       "      <td>1.00</td>\n",
       "      <td>2014-01-07</td>\n",
       "      <td>iPhone</td>\n",
       "      <td>0.0</td>\n",
       "      <td>False</td>\n",
       "      <td>100.0</td>\n",
       "      <td>0.77</td>\n",
       "      <td>5.0</td>\n",
       "    </tr>\n",
       "    <tr>\n",
       "      <th>3</th>\n",
       "      <td>King's Landing</td>\n",
       "      <td>9</td>\n",
       "      <td>2014-01-10</td>\n",
       "      <td>4.6</td>\n",
       "      <td>1.14</td>\n",
       "      <td>2014-06-29</td>\n",
       "      <td>iPhone</td>\n",
       "      <td>20.0</td>\n",
       "      <td>True</td>\n",
       "      <td>80.0</td>\n",
       "      <td>2.36</td>\n",
       "      <td>4.9</td>\n",
       "    </tr>\n",
       "    <tr>\n",
       "      <th>4</th>\n",
       "      <td>Winterfell</td>\n",
       "      <td>14</td>\n",
       "      <td>2014-01-27</td>\n",
       "      <td>4.4</td>\n",
       "      <td>1.19</td>\n",
       "      <td>2014-03-15</td>\n",
       "      <td>Android</td>\n",
       "      <td>11.8</td>\n",
       "      <td>False</td>\n",
       "      <td>82.4</td>\n",
       "      <td>3.13</td>\n",
       "      <td>4.9</td>\n",
       "    </tr>\n",
       "  </tbody>\n",
       "</table>\n",
       "</div>"
      ],
      "text/plain": [
       "             city  trips_in_first_30_days signup_date  avg_rating_of_driver  \\\n",
       "0  King's Landing                       4  2014-01-25                   4.7   \n",
       "1         Astapor                       0  2014-01-29                   5.0   \n",
       "2         Astapor                       3  2014-01-06                   4.3   \n",
       "3  King's Landing                       9  2014-01-10                   4.6   \n",
       "4      Winterfell                      14  2014-01-27                   4.4   \n",
       "\n",
       "   avg_surge last_trip_date    phone  surge_pct  ultimate_black_user  \\\n",
       "0       1.10     2014-06-17   iPhone       15.4                 True   \n",
       "1       1.00     2014-05-05  Android        0.0                False   \n",
       "2       1.00     2014-01-07   iPhone        0.0                False   \n",
       "3       1.14     2014-06-29   iPhone       20.0                 True   \n",
       "4       1.19     2014-03-15  Android       11.8                False   \n",
       "\n",
       "   weekday_pct  avg_dist  avg_rating_by_driver  \n",
       "0         46.2      3.67                   5.0  \n",
       "1         50.0      8.26                   5.0  \n",
       "2        100.0      0.77                   5.0  \n",
       "3         80.0      2.36                   4.9  \n",
       "4         82.4      3.13                   4.9  "
      ]
     },
     "execution_count": 17,
     "metadata": {},
     "output_type": "execute_result"
    }
   ],
   "source": [
    "# import dataset\n",
    "df = pd.read_json('ultimate_data_challenge.json')\n",
    "df.head()"
   ]
  },
  {
   "cell_type": "code",
   "execution_count": 18,
   "id": "25ee885c-84c5-4d61-85d8-c413a0a8fe78",
   "metadata": {},
   "outputs": [
    {
     "name": "stdout",
     "output_type": "stream",
     "text": [
      "<class 'pandas.core.frame.DataFrame'>\n",
      "RangeIndex: 50000 entries, 0 to 49999\n",
      "Data columns (total 12 columns):\n",
      " #   Column                  Non-Null Count  Dtype  \n",
      "---  ------                  --------------  -----  \n",
      " 0   city                    50000 non-null  object \n",
      " 1   trips_in_first_30_days  50000 non-null  int64  \n",
      " 2   signup_date             50000 non-null  object \n",
      " 3   avg_rating_of_driver    41878 non-null  float64\n",
      " 4   avg_surge               50000 non-null  float64\n",
      " 5   last_trip_date          50000 non-null  object \n",
      " 6   phone                   49604 non-null  object \n",
      " 7   surge_pct               50000 non-null  float64\n",
      " 8   ultimate_black_user     50000 non-null  bool   \n",
      " 9   weekday_pct             50000 non-null  float64\n",
      " 10  avg_dist                50000 non-null  float64\n",
      " 11  avg_rating_by_driver    49799 non-null  float64\n",
      "dtypes: bool(1), float64(6), int64(1), object(4)\n",
      "memory usage: 4.2+ MB\n"
     ]
    }
   ],
   "source": [
    "# check for nulls\n",
    "df.info()"
   ]
  },
  {
   "cell_type": "code",
   "execution_count": 19,
   "id": "bef8dacc-9caa-4de8-8566-1cd0dd2ca06d",
   "metadata": {},
   "outputs": [
    {
     "name": "stdout",
     "output_type": "stream",
     "text": [
      "<class 'pandas.core.frame.DataFrame'>\n",
      "Index: 41445 entries, 0 to 49998\n",
      "Data columns (total 12 columns):\n",
      " #   Column                  Non-Null Count  Dtype  \n",
      "---  ------                  --------------  -----  \n",
      " 0   city                    41445 non-null  object \n",
      " 1   trips_in_first_30_days  41445 non-null  int64  \n",
      " 2   signup_date             41445 non-null  object \n",
      " 3   avg_rating_of_driver    41445 non-null  float64\n",
      " 4   avg_surge               41445 non-null  float64\n",
      " 5   last_trip_date          41445 non-null  object \n",
      " 6   phone                   41445 non-null  object \n",
      " 7   surge_pct               41445 non-null  float64\n",
      " 8   ultimate_black_user     41445 non-null  bool   \n",
      " 9   weekday_pct             41445 non-null  float64\n",
      " 10  avg_dist                41445 non-null  float64\n",
      " 11  avg_rating_by_driver    41445 non-null  float64\n",
      "dtypes: bool(1), float64(6), int64(1), object(4)\n",
      "memory usage: 3.8+ MB\n"
     ]
    }
   ],
   "source": [
    "cleaned_df = df.dropna(subset =['avg_rating_of_driver', 'phone', 'avg_rating_by_driver'])\n",
    "cleaned_df.info()"
   ]
  },
  {
   "cell_type": "code",
   "execution_count": 20,
   "id": "603701fa-f62c-403b-8be2-caa026a34de2",
   "metadata": {},
   "outputs": [
    {
     "data": {
      "image/png": "[encoded data removed]",
      "text/plain": [
       "<Figure size 2000x1000 with 9 Axes>"
      ]
     },
     "metadata": {},
     "output_type": "display_data"
    }
   ],
   "source": [
    "#look at distributions of  columns\n",
    "df.hist(figsize = (20,10));"
   ]
  },
  {
   "cell_type": "code",
   "execution_count": 21,
   "id": "ad7b825d-baea-404d-b680-5524b9ebf7ab",
   "metadata": {},
   "outputs": [
    {
     "name": "stdout",
     "output_type": "stream",
     "text": [
      "city cardinality: 3\n",
      "phone cardinality: 2\n"
     ]
    }
   ],
   "source": [
    "print('city cardinality:', df['city'].nunique())\n",
    "print('phone cardinality:', df['phone'].nunique())"
   ]
  },
  {
   "cell_type": "code",
   "execution_count": 22,
   "id": "1fc77742-2f4c-4919-b6e0-6e7ccff903ab",
   "metadata": {},
   "outputs": [
    {
     "data": {
      "image/png": "[encoded data removed]",
      "text/plain": [
       "<Figure size 500x300 with 1 Axes>"
      ]
     },
     "metadata": {},
     "output_type": "display_data"
    }
   ],
   "source": [
    "plt.figure(figsize=(5, 3)) \n",
    "city_counts = df['city'].value_counts()\n",
    "plt.bar(city_counts.index, city_counts.values);"
   ]
  },
  {
   "cell_type": "code",
   "execution_count": 23,
   "id": "878bb12a-78bb-4905-92c9-de59c941b58b",
   "metadata": {},
   "outputs": [
    {
     "data": {
      "image/png": "[encoded data removed]",
      "text/plain": [
       "<Figure size 500x300 with 1 Axes>"
      ]
     },
     "metadata": {},
     "output_type": "display_data"
    }
   ],
   "source": [
    "plt.figure(figsize=(5, 3)) \n",
    "phone_counts = df['phone'].value_counts()\n",
    "plt.bar(phone_counts.index, phone_counts.values);"
   ]
  },
  {
   "cell_type": "code",
   "execution_count": 24,
   "id": "e6e31062-fe4f-463f-9e33-0cc44ad0c513",
   "metadata": {},
   "outputs": [
    {
     "data": {
      "image/png": "[encoded data removed]",
      "text/plain": [
       "<Figure size 500x300 with 1 Axes>"
      ]
     },
     "metadata": {},
     "output_type": "display_data"
    }
   ],
   "source": [
    "plt.figure(figsize=(5, 3)) \n",
    "ultimate_black_counts = df['ultimate_black_user'].value_counts()\n",
    "plt.bar(ultimate_black_counts.index, ultimate_black_counts.values)\n",
    "plt.xticks([0, 1], ['Not Ultimate Black user', 'Ultimate Black user']);"
   ]
  },
  {
   "cell_type": "markdown",
   "id": "00f83d9c-d7d6-4300-9479-297253a690e3",
   "metadata": {},
   "source": [
    "# Feature Engineering\n",
    "In this section, we'll encode columns with low cardinality into dummies and encode timestamp columns as the number of days since the first event. This will put the information into a format the models can better use. "
   ]
  },
  {
   "cell_type": "code",
   "execution_count": 25,
   "id": "56e6e60c-1976-4a07-8262-4aecf53db81e",
   "metadata": {},
   "outputs": [
    {
     "data": {
      "text/html": [
       "<div>\n",
       "<style scoped>\n",
       "    .dataframe tbody tr th:only-of-type {\n",
       "        vertical-align: middle;\n",
       "    }\n",
       "\n",
       "    .dataframe tbody tr th {\n",
       "        vertical-align: top;\n",
       "    }\n",
       "\n",
       "    .dataframe thead th {\n",
       "        text-align: right;\n",
       "    }\n",
       "</style>\n",
       "<table border=\"1\" class=\"dataframe\">\n",
       "  <thead>\n",
       "    <tr style=\"text-align: right;\">\n",
       "      <th></th>\n",
       "      <th>trips_in_first_30_days</th>\n",
       "      <th>signup_date</th>\n",
       "      <th>avg_rating_of_driver</th>\n",
       "      <th>avg_surge</th>\n",
       "      <th>last_trip_date</th>\n",
       "      <th>surge_pct</th>\n",
       "      <th>ultimate_black_user</th>\n",
       "      <th>weekday_pct</th>\n",
       "      <th>avg_dist</th>\n",
       "      <th>avg_rating_by_driver</th>\n",
       "      <th>city_Astapor</th>\n",
       "      <th>city_King's Landing</th>\n",
       "      <th>city_Winterfell</th>\n",
       "      <th>phone_Android</th>\n",
       "      <th>phone_iPhone</th>\n",
       "    </tr>\n",
       "  </thead>\n",
       "  <tbody>\n",
       "    <tr>\n",
       "      <th>0</th>\n",
       "      <td>4</td>\n",
       "      <td>2014-01-25</td>\n",
       "      <td>4.7</td>\n",
       "      <td>1.10</td>\n",
       "      <td>2014-06-17</td>\n",
       "      <td>15.4</td>\n",
       "      <td>True</td>\n",
       "      <td>46.2</td>\n",
       "      <td>3.67</td>\n",
       "      <td>5.0</td>\n",
       "      <td>False</td>\n",
       "      <td>True</td>\n",
       "      <td>False</td>\n",
       "      <td>False</td>\n",
       "      <td>True</td>\n",
       "    </tr>\n",
       "    <tr>\n",
       "      <th>1</th>\n",
       "      <td>0</td>\n",
       "      <td>2014-01-29</td>\n",
       "      <td>5.0</td>\n",
       "      <td>1.00</td>\n",
       "      <td>2014-05-05</td>\n",
       "      <td>0.0</td>\n",
       "      <td>False</td>\n",
       "      <td>50.0</td>\n",
       "      <td>8.26</td>\n",
       "      <td>5.0</td>\n",
       "      <td>True</td>\n",
       "      <td>False</td>\n",
       "      <td>False</td>\n",
       "      <td>True</td>\n",
       "      <td>False</td>\n",
       "    </tr>\n",
       "    <tr>\n",
       "      <th>2</th>\n",
       "      <td>3</td>\n",
       "      <td>2014-01-06</td>\n",
       "      <td>4.3</td>\n",
       "      <td>1.00</td>\n",
       "      <td>2014-01-07</td>\n",
       "      <td>0.0</td>\n",
       "      <td>False</td>\n",
       "      <td>100.0</td>\n",
       "      <td>0.77</td>\n",
       "      <td>5.0</td>\n",
       "      <td>True</td>\n",
       "      <td>False</td>\n",
       "      <td>False</td>\n",
       "      <td>False</td>\n",
       "      <td>True</td>\n",
       "    </tr>\n",
       "    <tr>\n",
       "      <th>3</th>\n",
       "      <td>9</td>\n",
       "      <td>2014-01-10</td>\n",
       "      <td>4.6</td>\n",
       "      <td>1.14</td>\n",
       "      <td>2014-06-29</td>\n",
       "      <td>20.0</td>\n",
       "      <td>True</td>\n",
       "      <td>80.0</td>\n",
       "      <td>2.36</td>\n",
       "      <td>4.9</td>\n",
       "      <td>False</td>\n",
       "      <td>True</td>\n",
       "      <td>False</td>\n",
       "      <td>False</td>\n",
       "      <td>True</td>\n",
       "    </tr>\n",
       "    <tr>\n",
       "      <th>4</th>\n",
       "      <td>14</td>\n",
       "      <td>2014-01-27</td>\n",
       "      <td>4.4</td>\n",
       "      <td>1.19</td>\n",
       "      <td>2014-03-15</td>\n",
       "      <td>11.8</td>\n",
       "      <td>False</td>\n",
       "      <td>82.4</td>\n",
       "      <td>3.13</td>\n",
       "      <td>4.9</td>\n",
       "      <td>False</td>\n",
       "      <td>False</td>\n",
       "      <td>True</td>\n",
       "      <td>True</td>\n",
       "      <td>False</td>\n",
       "    </tr>\n",
       "  </tbody>\n",
       "</table>\n",
       "</div>"
      ],
      "text/plain": [
       "   trips_in_first_30_days signup_date  avg_rating_of_driver  avg_surge  \\\n",
       "0                       4  2014-01-25                   4.7       1.10   \n",
       "1                       0  2014-01-29                   5.0       1.00   \n",
       "2                       3  2014-01-06                   4.3       1.00   \n",
       "3                       9  2014-01-10                   4.6       1.14   \n",
       "4                      14  2014-01-27                   4.4       1.19   \n",
       "\n",
       "  last_trip_date  surge_pct  ultimate_black_user  weekday_pct  avg_dist  \\\n",
       "0     2014-06-17       15.4                 True         46.2      3.67   \n",
       "1     2014-05-05        0.0                False         50.0      8.26   \n",
       "2     2014-01-07        0.0                False        100.0      0.77   \n",
       "3     2014-06-29       20.0                 True         80.0      2.36   \n",
       "4     2014-03-15       11.8                False         82.4      3.13   \n",
       "\n",
       "   avg_rating_by_driver  city_Astapor  city_King's Landing  city_Winterfell  \\\n",
       "0                   5.0         False                 True            False   \n",
       "1                   5.0          True                False            False   \n",
       "2                   5.0          True                False            False   \n",
       "3                   4.9         False                 True            False   \n",
       "4                   4.9         False                False             True   \n",
       "\n",
       "   phone_Android  phone_iPhone  \n",
       "0          False          True  \n",
       "1           True         False  \n",
       "2          False          True  \n",
       "3          False          True  \n",
       "4           True         False  "
      ]
     },
     "execution_count": 25,
     "metadata": {},
     "output_type": "execute_result"
    }
   ],
   "source": [
    "df_encoded = pd.get_dummies(cleaned_df, columns = ['city', 'phone'])\n",
    "df_encoded.head()"
   ]
  },
  {
   "cell_type": "markdown",
   "id": "e59de87b-b5cd-4a20-bf85-ab001fdab122",
   "metadata": {},
   "source": [
    "We'll convert the signup_date column to a datetime object, then encode the information as days from creation. This encoded column, 'signup_encoded', will be the user's signup date in reference to the earliest signup date. "
   ]
  },
  {
   "cell_type": "code",
   "execution_count": 26,
   "id": "41e8e605-fc0a-4c46-b454-c70bbac2afa9",
   "metadata": {},
   "outputs": [
    {
     "name": "stdout",
     "output_type": "stream",
     "text": [
      "datetime64[ns]\n",
      "2014-01-01 00:00:00\n"
     ]
    }
   ],
   "source": [
    "#convert to datetime\n",
    "df_encoded['signup_date'] = pd.to_datetime(df_encoded['signup_date'])\n",
    "print(df_encoded['signup_date'].dtype)\n",
    "signup_reference = df_encoded['signup_date'].min()\n",
    "print(signup_reference)"
   ]
  },
  {
   "cell_type": "code",
   "execution_count": 27,
   "id": "e6df4672-988f-482c-a684-400ffb0fcb27",
   "metadata": {},
   "outputs": [],
   "source": [
    "#encode datetime info as number\n",
    "df_encoded['signup_encoded'] = (df_encoded['signup_date'] - signup_reference).dt.days"
   ]
  },
  {
   "cell_type": "code",
   "execution_count": 28,
   "id": "a8a249b4-b1b6-48c7-a177-efa4097f5abf",
   "metadata": {},
   "outputs": [
    {
     "data": {
      "text/html": [
       "<div>\n",
       "<style scoped>\n",
       "    .dataframe tbody tr th:only-of-type {\n",
       "        vertical-align: middle;\n",
       "    }\n",
       "\n",
       "    .dataframe tbody tr th {\n",
       "        vertical-align: top;\n",
       "    }\n",
       "\n",
       "    .dataframe thead th {\n",
       "        text-align: right;\n",
       "    }\n",
       "</style>\n",
       "<table border=\"1\" class=\"dataframe\">\n",
       "  <thead>\n",
       "    <tr style=\"text-align: right;\">\n",
       "      <th></th>\n",
       "      <th>trips_in_first_30_days</th>\n",
       "      <th>avg_rating_of_driver</th>\n",
       "      <th>avg_surge</th>\n",
       "      <th>last_trip_date</th>\n",
       "      <th>surge_pct</th>\n",
       "      <th>ultimate_black_user</th>\n",
       "      <th>weekday_pct</th>\n",
       "      <th>avg_dist</th>\n",
       "      <th>avg_rating_by_driver</th>\n",
       "      <th>city_Astapor</th>\n",
       "      <th>city_King's Landing</th>\n",
       "      <th>city_Winterfell</th>\n",
       "      <th>phone_Android</th>\n",
       "      <th>phone_iPhone</th>\n",
       "      <th>signup_encoded</th>\n",
       "    </tr>\n",
       "  </thead>\n",
       "  <tbody>\n",
       "    <tr>\n",
       "      <th>0</th>\n",
       "      <td>4</td>\n",
       "      <td>4.7</td>\n",
       "      <td>1.10</td>\n",
       "      <td>2014-06-17</td>\n",
       "      <td>15.4</td>\n",
       "      <td>True</td>\n",
       "      <td>46.2</td>\n",
       "      <td>3.67</td>\n",
       "      <td>5.0</td>\n",
       "      <td>False</td>\n",
       "      <td>True</td>\n",
       "      <td>False</td>\n",
       "      <td>False</td>\n",
       "      <td>True</td>\n",
       "      <td>24</td>\n",
       "    </tr>\n",
       "    <tr>\n",
       "      <th>1</th>\n",
       "      <td>0</td>\n",
       "      <td>5.0</td>\n",
       "      <td>1.00</td>\n",
       "      <td>2014-05-05</td>\n",
       "      <td>0.0</td>\n",
       "      <td>False</td>\n",
       "      <td>50.0</td>\n",
       "      <td>8.26</td>\n",
       "      <td>5.0</td>\n",
       "      <td>True</td>\n",
       "      <td>False</td>\n",
       "      <td>False</td>\n",
       "      <td>True</td>\n",
       "      <td>False</td>\n",
       "      <td>28</td>\n",
       "    </tr>\n",
       "    <tr>\n",
       "      <th>2</th>\n",
       "      <td>3</td>\n",
       "      <td>4.3</td>\n",
       "      <td>1.00</td>\n",
       "      <td>2014-01-07</td>\n",
       "      <td>0.0</td>\n",
       "      <td>False</td>\n",
       "      <td>100.0</td>\n",
       "      <td>0.77</td>\n",
       "      <td>5.0</td>\n",
       "      <td>True</td>\n",
       "      <td>False</td>\n",
       "      <td>False</td>\n",
       "      <td>False</td>\n",
       "      <td>True</td>\n",
       "      <td>5</td>\n",
       "    </tr>\n",
       "    <tr>\n",
       "      <th>3</th>\n",
       "      <td>9</td>\n",
       "      <td>4.6</td>\n",
       "      <td>1.14</td>\n",
       "      <td>2014-06-29</td>\n",
       "      <td>20.0</td>\n",
       "      <td>True</td>\n",
       "      <td>80.0</td>\n",
       "      <td>2.36</td>\n",
       "      <td>4.9</td>\n",
       "      <td>False</td>\n",
       "      <td>True</td>\n",
       "      <td>False</td>\n",
       "      <td>False</td>\n",
       "      <td>True</td>\n",
       "      <td>9</td>\n",
       "    </tr>\n",
       "    <tr>\n",
       "      <th>4</th>\n",
       "      <td>14</td>\n",
       "      <td>4.4</td>\n",
       "      <td>1.19</td>\n",
       "      <td>2014-03-15</td>\n",
       "      <td>11.8</td>\n",
       "      <td>False</td>\n",
       "      <td>82.4</td>\n",
       "      <td>3.13</td>\n",
       "      <td>4.9</td>\n",
       "      <td>False</td>\n",
       "      <td>False</td>\n",
       "      <td>True</td>\n",
       "      <td>True</td>\n",
       "      <td>False</td>\n",
       "      <td>26</td>\n",
       "    </tr>\n",
       "  </tbody>\n",
       "</table>\n",
       "</div>"
      ],
      "text/plain": [
       "   trips_in_first_30_days  avg_rating_of_driver  avg_surge last_trip_date  \\\n",
       "0                       4                   4.7       1.10     2014-06-17   \n",
       "1                       0                   5.0       1.00     2014-05-05   \n",
       "2                       3                   4.3       1.00     2014-01-07   \n",
       "3                       9                   4.6       1.14     2014-06-29   \n",
       "4                      14                   4.4       1.19     2014-03-15   \n",
       "\n",
       "   surge_pct  ultimate_black_user  weekday_pct  avg_dist  \\\n",
       "0       15.4                 True         46.2      3.67   \n",
       "1        0.0                False         50.0      8.26   \n",
       "2        0.0                False        100.0      0.77   \n",
       "3       20.0                 True         80.0      2.36   \n",
       "4       11.8                False         82.4      3.13   \n",
       "\n",
       "   avg_rating_by_driver  city_Astapor  city_King's Landing  city_Winterfell  \\\n",
       "0                   5.0         False                 True            False   \n",
       "1                   5.0          True                False            False   \n",
       "2                   5.0          True                False            False   \n",
       "3                   4.9         False                 True            False   \n",
       "4                   4.9         False                False             True   \n",
       "\n",
       "   phone_Android  phone_iPhone  signup_encoded  \n",
       "0          False          True              24  \n",
       "1           True         False              28  \n",
       "2          False          True               5  \n",
       "3          False          True               9  \n",
       "4           True         False              26  "
      ]
     },
     "execution_count": 28,
     "metadata": {},
     "output_type": "execute_result"
    }
   ],
   "source": [
    "df_encoded = df_encoded.drop(['signup_date'], axis = 1)\n",
    "df_encoded.head()"
   ]
  },
  {
   "cell_type": "code",
   "execution_count": 29,
   "id": "e1c009d5-8ae7-498c-a407-1d6fb55c8ba2",
   "metadata": {},
   "outputs": [
    {
     "data": {
      "text/plain": [
       "'2014-07-01'"
      ]
     },
     "execution_count": 29,
     "metadata": {},
     "output_type": "execute_result"
    }
   ],
   "source": [
    "df_encoded['last_trip_date'].max()"
   ]
  },
  {
   "cell_type": "code",
   "execution_count": null,
   "id": "31b40b03-df91-4b52-913e-62430bd75bef",
   "metadata": {},
   "outputs": [],
   "source": []
  },
  {
   "cell_type": "markdown",
   "id": "65062310-ab98-49df-a38d-ddca62aa06a1",
   "metadata": {},
   "source": [
    "Repeat the process, encoding 'last_trip_date'"
   ]
  },
  {
   "cell_type": "code",
   "execution_count": 30,
   "id": "193a6171-9774-4324-8b59-033e6cdb3449",
   "metadata": {},
   "outputs": [
    {
     "name": "stdout",
     "output_type": "stream",
     "text": [
      "datetime64[ns]\n",
      "2014-01-01 00:00:00\n"
     ]
    }
   ],
   "source": [
    "#convert to datetime\n",
    "df_encoded['last_trip_date'] = pd.to_datetime(df_encoded['last_trip_date'])\n",
    "print(df_encoded['last_trip_date'].dtype)\n",
    "last_trip_reference = df_encoded['last_trip_date'].min()\n",
    "print(last_trip_reference)"
   ]
  },
  {
   "cell_type": "code",
   "execution_count": 31,
   "id": "8271e7b3-6d9a-4b4f-a1b7-963a1aa479e2",
   "metadata": {},
   "outputs": [],
   "source": [
    "#encode datetime info as number\n",
    "df_encoded['last_trip_encoded'] = (df_encoded['last_trip_date'] - last_trip_reference).dt.days"
   ]
  },
  {
   "cell_type": "code",
   "execution_count": null,
   "id": "ef9a837c-edb3-440e-a609-ce9f0c27d1cd",
   "metadata": {},
   "outputs": [],
   "source": []
  },
  {
   "cell_type": "code",
   "execution_count": 32,
   "id": "0a676650-81a9-421d-84cd-2afd66952e2c",
   "metadata": {},
   "outputs": [
    {
     "data": {
      "text/html": [
       "<div>\n",
       "<style scoped>\n",
       "    .dataframe tbody tr th:only-of-type {\n",
       "        vertical-align: middle;\n",
       "    }\n",
       "\n",
       "    .dataframe tbody tr th {\n",
       "        vertical-align: top;\n",
       "    }\n",
       "\n",
       "    .dataframe thead th {\n",
       "        text-align: right;\n",
       "    }\n",
       "</style>\n",
       "<table border=\"1\" class=\"dataframe\">\n",
       "  <thead>\n",
       "    <tr style=\"text-align: right;\">\n",
       "      <th></th>\n",
       "      <th>trips_in_first_30_days</th>\n",
       "      <th>avg_rating_of_driver</th>\n",
       "      <th>avg_surge</th>\n",
       "      <th>surge_pct</th>\n",
       "      <th>ultimate_black_user</th>\n",
       "      <th>weekday_pct</th>\n",
       "      <th>avg_dist</th>\n",
       "      <th>avg_rating_by_driver</th>\n",
       "      <th>city_Astapor</th>\n",
       "      <th>city_King's Landing</th>\n",
       "      <th>city_Winterfell</th>\n",
       "      <th>phone_Android</th>\n",
       "      <th>phone_iPhone</th>\n",
       "      <th>signup_encoded</th>\n",
       "      <th>last_trip_encoded</th>\n",
       "    </tr>\n",
       "  </thead>\n",
       "  <tbody>\n",
       "    <tr>\n",
       "      <th>0</th>\n",
       "      <td>4</td>\n",
       "      <td>4.7</td>\n",
       "      <td>1.10</td>\n",
       "      <td>15.4</td>\n",
       "      <td>True</td>\n",
       "      <td>46.2</td>\n",
       "      <td>3.67</td>\n",
       "      <td>5.0</td>\n",
       "      <td>False</td>\n",
       "      <td>True</td>\n",
       "      <td>False</td>\n",
       "      <td>False</td>\n",
       "      <td>True</td>\n",
       "      <td>24</td>\n",
       "      <td>167</td>\n",
       "    </tr>\n",
       "    <tr>\n",
       "      <th>1</th>\n",
       "      <td>0</td>\n",
       "      <td>5.0</td>\n",
       "      <td>1.00</td>\n",
       "      <td>0.0</td>\n",
       "      <td>False</td>\n",
       "      <td>50.0</td>\n",
       "      <td>8.26</td>\n",
       "      <td>5.0</td>\n",
       "      <td>True</td>\n",
       "      <td>False</td>\n",
       "      <td>False</td>\n",
       "      <td>True</td>\n",
       "      <td>False</td>\n",
       "      <td>28</td>\n",
       "      <td>124</td>\n",
       "    </tr>\n",
       "    <tr>\n",
       "      <th>2</th>\n",
       "      <td>3</td>\n",
       "      <td>4.3</td>\n",
       "      <td>1.00</td>\n",
       "      <td>0.0</td>\n",
       "      <td>False</td>\n",
       "      <td>100.0</td>\n",
       "      <td>0.77</td>\n",
       "      <td>5.0</td>\n",
       "      <td>True</td>\n",
       "      <td>False</td>\n",
       "      <td>False</td>\n",
       "      <td>False</td>\n",
       "      <td>True</td>\n",
       "      <td>5</td>\n",
       "      <td>6</td>\n",
       "    </tr>\n",
       "    <tr>\n",
       "      <th>3</th>\n",
       "      <td>9</td>\n",
       "      <td>4.6</td>\n",
       "      <td>1.14</td>\n",
       "      <td>20.0</td>\n",
       "      <td>True</td>\n",
       "      <td>80.0</td>\n",
       "      <td>2.36</td>\n",
       "      <td>4.9</td>\n",
       "      <td>False</td>\n",
       "      <td>True</td>\n",
       "      <td>False</td>\n",
       "      <td>False</td>\n",
       "      <td>True</td>\n",
       "      <td>9</td>\n",
       "      <td>179</td>\n",
       "    </tr>\n",
       "    <tr>\n",
       "      <th>4</th>\n",
       "      <td>14</td>\n",
       "      <td>4.4</td>\n",
       "      <td>1.19</td>\n",
       "      <td>11.8</td>\n",
       "      <td>False</td>\n",
       "      <td>82.4</td>\n",
       "      <td>3.13</td>\n",
       "      <td>4.9</td>\n",
       "      <td>False</td>\n",
       "      <td>False</td>\n",
       "      <td>True</td>\n",
       "      <td>True</td>\n",
       "      <td>False</td>\n",
       "      <td>26</td>\n",
       "      <td>73</td>\n",
       "    </tr>\n",
       "  </tbody>\n",
       "</table>\n",
       "</div>"
      ],
      "text/plain": [
       "   trips_in_first_30_days  avg_rating_of_driver  avg_surge  surge_pct  \\\n",
       "0                       4                   4.7       1.10       15.4   \n",
       "1                       0                   5.0       1.00        0.0   \n",
       "2                       3                   4.3       1.00        0.0   \n",
       "3                       9                   4.6       1.14       20.0   \n",
       "4                      14                   4.4       1.19       11.8   \n",
       "\n",
       "   ultimate_black_user  weekday_pct  avg_dist  avg_rating_by_driver  \\\n",
       "0                 True         46.2      3.67                   5.0   \n",
       "1                False         50.0      8.26                   5.0   \n",
       "2                False        100.0      0.77                   5.0   \n",
       "3                 True         80.0      2.36                   4.9   \n",
       "4                False         82.4      3.13                   4.9   \n",
       "\n",
       "   city_Astapor  city_King's Landing  city_Winterfell  phone_Android  \\\n",
       "0         False                 True            False          False   \n",
       "1          True                False            False           True   \n",
       "2          True                False            False          False   \n",
       "3         False                 True            False          False   \n",
       "4         False                False             True           True   \n",
       "\n",
       "   phone_iPhone  signup_encoded  last_trip_encoded  \n",
       "0          True              24                167  \n",
       "1         False              28                124  \n",
       "2          True               5                  6  \n",
       "3          True               9                179  \n",
       "4         False              26                 73  "
      ]
     },
     "execution_count": 32,
     "metadata": {},
     "output_type": "execute_result"
    }
   ],
   "source": [
    "df_encoded = df_encoded.drop(['last_trip_date'], axis = 1)\n",
    "df_encoded.head()"
   ]
  },
  {
   "cell_type": "markdown",
   "id": "98eac32c-de00-4486-9df6-651831d901ad",
   "metadata": {},
   "source": [
    "# Define target variable\n",
    "We are interested in users who retained, considering \"active\" users as those who to a trip in the preceding 30 days (presumably counting from the most recent day in the dataset). We will filter for users who meet this criteria, then create a new column that labels whether or not users are classes as \"active\". This will be our target variable"
   ]
  },
  {
   "cell_type": "code",
   "execution_count": 33,
   "id": "1774d059-9d92-4f26-8007-81148d10e566",
   "metadata": {},
   "outputs": [
    {
     "name": "stdout",
     "output_type": "stream",
     "text": [
      "We are interested in customers who took at least one trip between days: 151 - 181\n"
     ]
    }
   ],
   "source": [
    "#Most recent day in dataset\n",
    "final_day = df_encoded['last_trip_encoded'].max()\n",
    "earliest_day = final_day - 30\n",
    "print(\"We are interested in customers who took at least one trip between days:\", earliest_day, \"-\", final_day)"
   ]
  },
  {
   "cell_type": "code",
   "execution_count": 34,
   "id": "9c3f7cbc-51f3-4c30-aabb-9a3f96a052b2",
   "metadata": {},
   "outputs": [
    {
     "data": {
      "text/html": [
       "<div>\n",
       "<style scoped>\n",
       "    .dataframe tbody tr th:only-of-type {\n",
       "        vertical-align: middle;\n",
       "    }\n",
       "\n",
       "    .dataframe tbody tr th {\n",
       "        vertical-align: top;\n",
       "    }\n",
       "\n",
       "    .dataframe thead th {\n",
       "        text-align: right;\n",
       "    }\n",
       "</style>\n",
       "<table border=\"1\" class=\"dataframe\">\n",
       "  <thead>\n",
       "    <tr style=\"text-align: right;\">\n",
       "      <th></th>\n",
       "      <th>trips_in_first_30_days</th>\n",
       "      <th>avg_rating_of_driver</th>\n",
       "      <th>avg_surge</th>\n",
       "      <th>surge_pct</th>\n",
       "      <th>ultimate_black_user</th>\n",
       "      <th>weekday_pct</th>\n",
       "      <th>avg_dist</th>\n",
       "      <th>avg_rating_by_driver</th>\n",
       "      <th>city_Astapor</th>\n",
       "      <th>city_King's Landing</th>\n",
       "      <th>city_Winterfell</th>\n",
       "      <th>phone_Android</th>\n",
       "      <th>phone_iPhone</th>\n",
       "      <th>signup_encoded</th>\n",
       "      <th>last_trip_encoded</th>\n",
       "    </tr>\n",
       "  </thead>\n",
       "  <tbody>\n",
       "    <tr>\n",
       "      <th>0</th>\n",
       "      <td>4</td>\n",
       "      <td>4.7</td>\n",
       "      <td>1.10</td>\n",
       "      <td>15.4</td>\n",
       "      <td>True</td>\n",
       "      <td>46.2</td>\n",
       "      <td>3.67</td>\n",
       "      <td>5.0</td>\n",
       "      <td>False</td>\n",
       "      <td>True</td>\n",
       "      <td>False</td>\n",
       "      <td>False</td>\n",
       "      <td>True</td>\n",
       "      <td>24</td>\n",
       "      <td>167</td>\n",
       "    </tr>\n",
       "    <tr>\n",
       "      <th>3</th>\n",
       "      <td>9</td>\n",
       "      <td>4.6</td>\n",
       "      <td>1.14</td>\n",
       "      <td>20.0</td>\n",
       "      <td>True</td>\n",
       "      <td>80.0</td>\n",
       "      <td>2.36</td>\n",
       "      <td>4.9</td>\n",
       "      <td>False</td>\n",
       "      <td>True</td>\n",
       "      <td>False</td>\n",
       "      <td>False</td>\n",
       "      <td>True</td>\n",
       "      <td>9</td>\n",
       "      <td>179</td>\n",
       "    </tr>\n",
       "    <tr>\n",
       "      <th>5</th>\n",
       "      <td>2</td>\n",
       "      <td>3.5</td>\n",
       "      <td>1.00</td>\n",
       "      <td>0.0</td>\n",
       "      <td>True</td>\n",
       "      <td>100.0</td>\n",
       "      <td>10.56</td>\n",
       "      <td>5.0</td>\n",
       "      <td>False</td>\n",
       "      <td>False</td>\n",
       "      <td>True</td>\n",
       "      <td>False</td>\n",
       "      <td>True</td>\n",
       "      <td>8</td>\n",
       "      <td>156</td>\n",
       "    </tr>\n",
       "    <tr>\n",
       "      <th>13</th>\n",
       "      <td>0</td>\n",
       "      <td>4.0</td>\n",
       "      <td>1.38</td>\n",
       "      <td>50.0</td>\n",
       "      <td>False</td>\n",
       "      <td>50.0</td>\n",
       "      <td>3.04</td>\n",
       "      <td>5.0</td>\n",
       "      <td>False</td>\n",
       "      <td>True</td>\n",
       "      <td>False</td>\n",
       "      <td>False</td>\n",
       "      <td>True</td>\n",
       "      <td>28</td>\n",
       "      <td>158</td>\n",
       "    </tr>\n",
       "    <tr>\n",
       "      <th>16</th>\n",
       "      <td>1</td>\n",
       "      <td>5.0</td>\n",
       "      <td>1.00</td>\n",
       "      <td>0.0</td>\n",
       "      <td>True</td>\n",
       "      <td>50.0</td>\n",
       "      <td>10.86</td>\n",
       "      <td>3.0</td>\n",
       "      <td>False</td>\n",
       "      <td>True</td>\n",
       "      <td>False</td>\n",
       "      <td>True</td>\n",
       "      <td>False</td>\n",
       "      <td>10</td>\n",
       "      <td>178</td>\n",
       "    </tr>\n",
       "    <tr>\n",
       "      <th>...</th>\n",
       "      <td>...</td>\n",
       "      <td>...</td>\n",
       "      <td>...</td>\n",
       "      <td>...</td>\n",
       "      <td>...</td>\n",
       "      <td>...</td>\n",
       "      <td>...</td>\n",
       "      <td>...</td>\n",
       "      <td>...</td>\n",
       "      <td>...</td>\n",
       "      <td>...</td>\n",
       "      <td>...</td>\n",
       "      <td>...</td>\n",
       "      <td>...</td>\n",
       "      <td>...</td>\n",
       "    </tr>\n",
       "    <tr>\n",
       "      <th>49973</th>\n",
       "      <td>2</td>\n",
       "      <td>4.0</td>\n",
       "      <td>1.00</td>\n",
       "      <td>0.0</td>\n",
       "      <td>True</td>\n",
       "      <td>25.0</td>\n",
       "      <td>4.07</td>\n",
       "      <td>5.0</td>\n",
       "      <td>True</td>\n",
       "      <td>False</td>\n",
       "      <td>False</td>\n",
       "      <td>False</td>\n",
       "      <td>True</td>\n",
       "      <td>0</td>\n",
       "      <td>178</td>\n",
       "    </tr>\n",
       "    <tr>\n",
       "      <th>49975</th>\n",
       "      <td>11</td>\n",
       "      <td>3.9</td>\n",
       "      <td>1.03</td>\n",
       "      <td>4.1</td>\n",
       "      <td>False</td>\n",
       "      <td>91.8</td>\n",
       "      <td>2.18</td>\n",
       "      <td>4.8</td>\n",
       "      <td>False</td>\n",
       "      <td>False</td>\n",
       "      <td>True</td>\n",
       "      <td>False</td>\n",
       "      <td>True</td>\n",
       "      <td>10</td>\n",
       "      <td>168</td>\n",
       "    </tr>\n",
       "    <tr>\n",
       "      <th>49988</th>\n",
       "      <td>1</td>\n",
       "      <td>4.5</td>\n",
       "      <td>1.00</td>\n",
       "      <td>0.0</td>\n",
       "      <td>False</td>\n",
       "      <td>50.0</td>\n",
       "      <td>2.53</td>\n",
       "      <td>5.0</td>\n",
       "      <td>False</td>\n",
       "      <td>True</td>\n",
       "      <td>False</td>\n",
       "      <td>False</td>\n",
       "      <td>True</td>\n",
       "      <td>19</td>\n",
       "      <td>164</td>\n",
       "    </tr>\n",
       "    <tr>\n",
       "      <th>49991</th>\n",
       "      <td>0</td>\n",
       "      <td>5.0</td>\n",
       "      <td>1.25</td>\n",
       "      <td>100.0</td>\n",
       "      <td>False</td>\n",
       "      <td>0.0</td>\n",
       "      <td>1.06</td>\n",
       "      <td>5.0</td>\n",
       "      <td>False</td>\n",
       "      <td>False</td>\n",
       "      <td>True</td>\n",
       "      <td>False</td>\n",
       "      <td>True</td>\n",
       "      <td>7</td>\n",
       "      <td>179</td>\n",
       "    </tr>\n",
       "    <tr>\n",
       "      <th>49995</th>\n",
       "      <td>0</td>\n",
       "      <td>5.0</td>\n",
       "      <td>1.00</td>\n",
       "      <td>0.0</td>\n",
       "      <td>False</td>\n",
       "      <td>100.0</td>\n",
       "      <td>5.63</td>\n",
       "      <td>4.2</td>\n",
       "      <td>False</td>\n",
       "      <td>True</td>\n",
       "      <td>False</td>\n",
       "      <td>False</td>\n",
       "      <td>True</td>\n",
       "      <td>24</td>\n",
       "      <td>155</td>\n",
       "    </tr>\n",
       "  </tbody>\n",
       "</table>\n",
       "<p>16506 rows × 15 columns</p>\n",
       "</div>"
      ],
      "text/plain": [
       "       trips_in_first_30_days  avg_rating_of_driver  avg_surge  surge_pct  \\\n",
       "0                           4                   4.7       1.10       15.4   \n",
       "3                           9                   4.6       1.14       20.0   \n",
       "5                           2                   3.5       1.00        0.0   \n",
       "13                          0                   4.0       1.38       50.0   \n",
       "16                          1                   5.0       1.00        0.0   \n",
       "...                       ...                   ...        ...        ...   \n",
       "49973                       2                   4.0       1.00        0.0   \n",
       "49975                      11                   3.9       1.03        4.1   \n",
       "49988                       1                   4.5       1.00        0.0   \n",
       "49991                       0                   5.0       1.25      100.0   \n",
       "49995                       0                   5.0       1.00        0.0   \n",
       "\n",
       "       ultimate_black_user  weekday_pct  avg_dist  avg_rating_by_driver  \\\n",
       "0                     True         46.2      3.67                   5.0   \n",
       "3                     True         80.0      2.36                   4.9   \n",
       "5                     True        100.0     10.56                   5.0   \n",
       "13                   False         50.0      3.04                   5.0   \n",
       "16                    True         50.0     10.86                   3.0   \n",
       "...                    ...          ...       ...                   ...   \n",
       "49973                 True         25.0      4.07                   5.0   \n",
       "49975                False         91.8      2.18                   4.8   \n",
       "49988                False         50.0      2.53                   5.0   \n",
       "49991                False          0.0      1.06                   5.0   \n",
       "49995                False        100.0      5.63                   4.2   \n",
       "\n",
       "       city_Astapor  city_King's Landing  city_Winterfell  phone_Android  \\\n",
       "0             False                 True            False          False   \n",
       "3             False                 True            False          False   \n",
       "5             False                False             True          False   \n",
       "13            False                 True            False          False   \n",
       "16            False                 True            False           True   \n",
       "...             ...                  ...              ...            ...   \n",
       "49973          True                False            False          False   \n",
       "49975         False                False             True          False   \n",
       "49988         False                 True            False          False   \n",
       "49991         False                False             True          False   \n",
       "49995         False                 True            False          False   \n",
       "\n",
       "       phone_iPhone  signup_encoded  last_trip_encoded  \n",
       "0              True              24                167  \n",
       "3              True               9                179  \n",
       "5              True               8                156  \n",
       "13             True              28                158  \n",
       "16            False              10                178  \n",
       "...             ...             ...                ...  \n",
       "49973          True               0                178  \n",
       "49975          True              10                168  \n",
       "49988          True              19                164  \n",
       "49991          True               7                179  \n",
       "49995          True              24                155  \n",
       "\n",
       "[16506 rows x 15 columns]"
      ]
     },
     "execution_count": 34,
     "metadata": {},
     "output_type": "execute_result"
    }
   ],
   "source": [
    "#create boolean mask, assigning True or False values based on whether column values meet criteria\n",
    "mask = (df_encoded['last_trip_encoded'] >= 151) & (df_encoded['last_trip_encoded'] < 181)\n",
    "#filter users by applying mask. Create df active_users, a subset of df_encoded which includes only\n",
    "#rows where 'last_trip_encoded' values meet active user criteria\n",
    "active_users = df_encoded[mask]\n",
    "active_users"
   ]
  },
  {
   "cell_type": "code",
   "execution_count": 35,
   "id": "2ee096db-4582-430a-b5ea-3bc7dd5e616d",
   "metadata": {},
   "outputs": [
    {
     "data": {
      "text/html": [
       "<div>\n",
       "<style scoped>\n",
       "    .dataframe tbody tr th:only-of-type {\n",
       "        vertical-align: middle;\n",
       "    }\n",
       "\n",
       "    .dataframe tbody tr th {\n",
       "        vertical-align: top;\n",
       "    }\n",
       "\n",
       "    .dataframe thead th {\n",
       "        text-align: right;\n",
       "    }\n",
       "</style>\n",
       "<table border=\"1\" class=\"dataframe\">\n",
       "  <thead>\n",
       "    <tr style=\"text-align: right;\">\n",
       "      <th></th>\n",
       "      <th>trips_in_first_30_days</th>\n",
       "      <th>avg_rating_of_driver</th>\n",
       "      <th>avg_surge</th>\n",
       "      <th>surge_pct</th>\n",
       "      <th>ultimate_black_user</th>\n",
       "      <th>weekday_pct</th>\n",
       "      <th>avg_dist</th>\n",
       "      <th>avg_rating_by_driver</th>\n",
       "      <th>city_Astapor</th>\n",
       "      <th>city_King's Landing</th>\n",
       "      <th>city_Winterfell</th>\n",
       "      <th>phone_Android</th>\n",
       "      <th>phone_iPhone</th>\n",
       "      <th>signup_encoded</th>\n",
       "      <th>last_trip_encoded</th>\n",
       "      <th>active</th>\n",
       "    </tr>\n",
       "  </thead>\n",
       "  <tbody>\n",
       "    <tr>\n",
       "      <th>0</th>\n",
       "      <td>4</td>\n",
       "      <td>4.7</td>\n",
       "      <td>1.10</td>\n",
       "      <td>15.4</td>\n",
       "      <td>True</td>\n",
       "      <td>46.2</td>\n",
       "      <td>3.67</td>\n",
       "      <td>5.0</td>\n",
       "      <td>False</td>\n",
       "      <td>True</td>\n",
       "      <td>False</td>\n",
       "      <td>False</td>\n",
       "      <td>True</td>\n",
       "      <td>24</td>\n",
       "      <td>167</td>\n",
       "      <td>1</td>\n",
       "    </tr>\n",
       "    <tr>\n",
       "      <th>1</th>\n",
       "      <td>0</td>\n",
       "      <td>5.0</td>\n",
       "      <td>1.00</td>\n",
       "      <td>0.0</td>\n",
       "      <td>False</td>\n",
       "      <td>50.0</td>\n",
       "      <td>8.26</td>\n",
       "      <td>5.0</td>\n",
       "      <td>True</td>\n",
       "      <td>False</td>\n",
       "      <td>False</td>\n",
       "      <td>True</td>\n",
       "      <td>False</td>\n",
       "      <td>28</td>\n",
       "      <td>124</td>\n",
       "      <td>0</td>\n",
       "    </tr>\n",
       "    <tr>\n",
       "      <th>2</th>\n",
       "      <td>3</td>\n",
       "      <td>4.3</td>\n",
       "      <td>1.00</td>\n",
       "      <td>0.0</td>\n",
       "      <td>False</td>\n",
       "      <td>100.0</td>\n",
       "      <td>0.77</td>\n",
       "      <td>5.0</td>\n",
       "      <td>True</td>\n",
       "      <td>False</td>\n",
       "      <td>False</td>\n",
       "      <td>False</td>\n",
       "      <td>True</td>\n",
       "      <td>5</td>\n",
       "      <td>6</td>\n",
       "      <td>0</td>\n",
       "    </tr>\n",
       "    <tr>\n",
       "      <th>3</th>\n",
       "      <td>9</td>\n",
       "      <td>4.6</td>\n",
       "      <td>1.14</td>\n",
       "      <td>20.0</td>\n",
       "      <td>True</td>\n",
       "      <td>80.0</td>\n",
       "      <td>2.36</td>\n",
       "      <td>4.9</td>\n",
       "      <td>False</td>\n",
       "      <td>True</td>\n",
       "      <td>False</td>\n",
       "      <td>False</td>\n",
       "      <td>True</td>\n",
       "      <td>9</td>\n",
       "      <td>179</td>\n",
       "      <td>1</td>\n",
       "    </tr>\n",
       "    <tr>\n",
       "      <th>4</th>\n",
       "      <td>14</td>\n",
       "      <td>4.4</td>\n",
       "      <td>1.19</td>\n",
       "      <td>11.8</td>\n",
       "      <td>False</td>\n",
       "      <td>82.4</td>\n",
       "      <td>3.13</td>\n",
       "      <td>4.9</td>\n",
       "      <td>False</td>\n",
       "      <td>False</td>\n",
       "      <td>True</td>\n",
       "      <td>True</td>\n",
       "      <td>False</td>\n",
       "      <td>26</td>\n",
       "      <td>73</td>\n",
       "      <td>0</td>\n",
       "    </tr>\n",
       "  </tbody>\n",
       "</table>\n",
       "</div>"
      ],
      "text/plain": [
       "   trips_in_first_30_days  avg_rating_of_driver  avg_surge  surge_pct  \\\n",
       "0                       4                   4.7       1.10       15.4   \n",
       "1                       0                   5.0       1.00        0.0   \n",
       "2                       3                   4.3       1.00        0.0   \n",
       "3                       9                   4.6       1.14       20.0   \n",
       "4                      14                   4.4       1.19       11.8   \n",
       "\n",
       "   ultimate_black_user  weekday_pct  avg_dist  avg_rating_by_driver  \\\n",
       "0                 True         46.2      3.67                   5.0   \n",
       "1                False         50.0      8.26                   5.0   \n",
       "2                False        100.0      0.77                   5.0   \n",
       "3                 True         80.0      2.36                   4.9   \n",
       "4                False         82.4      3.13                   4.9   \n",
       "\n",
       "   city_Astapor  city_King's Landing  city_Winterfell  phone_Android  \\\n",
       "0         False                 True            False          False   \n",
       "1          True                False            False           True   \n",
       "2          True                False            False          False   \n",
       "3         False                 True            False          False   \n",
       "4         False                False             True           True   \n",
       "\n",
       "   phone_iPhone  signup_encoded  last_trip_encoded  active  \n",
       "0          True              24                167       1  \n",
       "1         False              28                124       0  \n",
       "2          True               5                  6       0  \n",
       "3          True               9                179       1  \n",
       "4         False              26                 73       0  "
      ]
     },
     "execution_count": 35,
     "metadata": {},
     "output_type": "execute_result"
    }
   ],
   "source": [
    "#initialize column 'active' in df_encoded to 0\n",
    "df_encoded['active'] = 0\n",
    "#update df_encoded['active'] column to reflect user status\n",
    "df_encoded.loc[active_users.index, 'active'] = 1\n",
    "df_encoded.head()"
   ]
  },
  {
   "cell_type": "markdown",
   "id": "67c69fd6-f29b-42d9-a4e0-519f328d9f5a",
   "metadata": {},
   "source": [
    "# More Exploratory analysis, two dimensional visualizations"
   ]
  },
  {
   "cell_type": "code",
   "execution_count": 36,
   "id": "a2e4fcff-ac35-444c-b455-22436eb67df1",
   "metadata": {},
   "outputs": [],
   "source": [
    "#pairplot = sns.pairplot(df_encoded, hue = 'active', palette = 'bright')"
   ]
  },
  {
   "cell_type": "code",
   "execution_count": 48,
   "id": "5af19e0a-783d-4ede-b092-2dce2811f84e",
   "metadata": {},
   "outputs": [
    {
     "data": {
      "text/plain": [
       "<Axes: >"
      ]
     },
     "execution_count": 48,
     "metadata": {},
     "output_type": "execute_result"
    },
    {
     "data": {
      "image/png": "[encoded data removed]",
      "text/plain": [
       "<Figure size 640x480 with 2 Axes>"
      ]
     },
     "metadata": {},
     "output_type": "display_data"
    }
   ],
   "source": [
    "corr = df_encoded.corr()\n",
    "sns.heatmap(corr, annot = False)"
   ]
  },
  {
   "cell_type": "code",
   "execution_count": 46,
   "id": "001ae891-622d-4723-ac58-3bfc48f42e03",
   "metadata": {},
   "outputs": [
    {
     "data": {
      "text/plain": [
       "0.39826275787187837"
      ]
     },
     "execution_count": 46,
     "metadata": {},
     "output_type": "execute_result"
    }
   ],
   "source": [
    "#find ratio of active users\n",
    "ratio_of_active_users = df_encoded['active'].mean()\n",
    "ratio_of_active_users"
   ]
  },
  {
   "cell_type": "markdown",
   "id": "85ceafc3-eaa4-449a-91d8-f027256d883d",
   "metadata": {},
   "source": [
    "# Exploratory analysis takeaways"
   ]
  },
  {
   "cell_type": "markdown",
   "id": "9be3bf1d-91c0-4186-9835-f3168ba2509d",
   "metadata": {},
   "source": [
    "40% of users are active (defined as taking at least one trip in the most recent 30 day period of the dataset)\n",
    "There are no strong relationships between features and active usership. Users based in King's landing, Iphone users, Ulitmate Black users and those with more trips in the first 30 days have some positive relationship with active usership. "
   ]
  },
  {
   "cell_type": "markdown",
   "id": "5de516a9-457e-4499-9e42-cdb9d8915871",
   "metadata": {},
   "source": [
    "# Modeling"
   ]
  },
  {
   "cell_type": "markdown",
   "id": "6bdf10b0-a6d8-4134-8308-46b3c1ac02ab",
   "metadata": {},
   "source": [
    "## Logistic Regression"
   ]
  },
  {
   "cell_type": "code",
   "execution_count": 52,
   "id": "cbbb7d76-dce9-4d4c-84e3-08f1cfc21fb3",
   "metadata": {},
   "outputs": [],
   "source": [
    "X = df_encoded.drop('active', axis = 1)\n",
    "y = df_encoded['active']"
   ]
  },
  {
   "cell_type": "markdown",
   "id": "e0136d40-17c0-4a7d-b6d3-b424eb67708e",
   "metadata": {},
   "source": [
    "### The model failed to converge, even after increasing max iterations to 1000, so a scaler is being used."
   ]
  },
  {
   "cell_type": "code",
   "execution_count": 50,
   "id": "8361cef4-fc8e-4024-b82d-4bb0176e598e",
   "metadata": {},
   "outputs": [],
   "source": [
    "#scale data using StandardScaler\n",
    "scaler = StandardScaler()\n",
    "X_train_scaled = scaler.fit_transform(X_train)\n",
    "X_test_scaled = scaler.transform(X_test)"
   ]
  },
  {
   "cell_type": "code",
   "execution_count": 51,
   "id": "dd2c5c51-8c73-44c6-a33d-cca8b78e2939",
   "metadata": {},
   "outputs": [
    {
     "name": "stdout",
     "output_type": "stream",
     "text": [
      "              precision    recall  f1-score   support\n",
      "\n",
      "           0       0.99      0.98      0.98      7447\n",
      "           1       0.96      0.98      0.97      4987\n",
      "\n",
      "    accuracy                           0.98     12434\n",
      "   macro avg       0.97      0.98      0.98     12434\n",
      "weighted avg       0.98      0.98      0.98     12434\n",
      "\n"
     ]
    }
   ],
   "source": [
    "model_lr = LogisticRegression(max_iter=1000)\n",
    "model_lr.fit(X_train_scaled, y_train)\n",
    "y_pred = model_lr.predict(X_test_scaled)\n",
    "print(classification_report(y_test, y_pred))"
   ]
  },
  {
   "cell_type": "code",
   "execution_count": null,
   "id": "552b422b-c7d5-4c45-aa10-99ce19569a4f",
   "metadata": {},
   "outputs": [],
   "source": [
    "# Random Forest"
   ]
  },
  {
   "cell_type": "code",
   "execution_count": 53,
   "id": "9b13d425-7436-449b-82a8-bc3b440afe06",
   "metadata": {},
   "outputs": [
    {
     "name": "stdout",
     "output_type": "stream",
     "text": [
      "              precision    recall  f1-score   support\n",
      "\n",
      "           0       1.00      1.00      1.00      7447\n",
      "           1       1.00      1.00      1.00      4987\n",
      "\n",
      "    accuracy                           1.00     12434\n",
      "   macro avg       1.00      1.00      1.00     12434\n",
      "weighted avg       1.00      1.00      1.00     12434\n",
      "\n"
     ]
    }
   ],
   "source": [
    "#random forest model\n",
    "clf_rf = RandomForestClassifier(n_estimators = 100, random_state = 42, n_jobs=-1)\n",
    "clf_rf.fit(X_train_scaled, y_train)\n",
    "y_predict = clf_rf.predict(X_test_scaled)\n",
    "print(classification_report(y_test, y_predict))"
   ]
  },
  {
   "cell_type": "code",
   "execution_count": 56,
   "id": "fe726684-aa3a-4b20-aa7d-d4cb09b8abdf",
   "metadata": {},
   "outputs": [
    {
     "data": {
      "image/png": "[encoded data removed]",
      "text/plain": [
       "<Figure size 700x500 with 1 Axes>"
      ]
     },
     "metadata": {},
     "output_type": "display_data"
    }
   ],
   "source": [
    "feature_importance = clf_rf.feature_importances_\n",
    "# make importances relative to max importance\n",
    "feature_importance = 100.0 * (feature_importance / feature_importance.max())\n",
    "sorted_idx = np.argsort(feature_importance)\n",
    "\n",
    "pos = np.arange(sorted_idx.shape[0]) + .5\n",
    "\n",
    "sorted_idx.size\n",
    "plt.figure(figsize=(7,5))\n",
    "plt.barh(pos, feature_importance[sorted_idx], align='center')\n",
    "plt.yticks(pos, X.columns[sorted_idx])\n",
    "plt.xlabel('Relative Importance')\n",
    "plt.title('Random Forest Model Feature Importance')\n",
    "plt.show();"
   ]
  },
  {
   "cell_type": "markdown",
   "id": "a1eeb943-97dc-424e-ab4e-edc04d812d6e",
   "metadata": {},
   "source": [
    "#Conclusion\n",
    "\n",
    "Both models performs shockingly well, I'm assuming this is synthetic data, designed to be modeled? The number of trips made in the most recent 30 days is the most important feature in predicting whether a user is active. This makes sense as it reflects our definition of \"active\". Beyond simply having a single trip in the past 30 days, it's possible that higher numbers of recent trips predict active users defined by additional criteria such as money spent.  \n",
    "\n",
    "King's landing residence predicts active usage. Investigation into why this is may further bolster ridership or identify factors that may be applied to the two other cities. High average rating by drivers also predicts active usership. Advising riders on etiquette may result in more satisfaction for both riders and drivers and positively affect ridership. "
   ]
  }
 ],
 "metadata": {
  "kernelspec": {
   "display_name": "Python 3 (ipykernel)",
   "language": "python",
   "name": "python3"
  },
  "language_info": {
   "codemirror_mode": {
    "name": "ipython",
    "version": 3
   },
   "file_extension": ".py",
   "mimetype": "text/x-python",
   "name": "python",
   "nbconvert_exporter": "python",
   "pygments_lexer": "ipython3",
   "version": "3.10.13"
  }
 },
 "nbformat": 4,
 "nbformat_minor": 5
}
