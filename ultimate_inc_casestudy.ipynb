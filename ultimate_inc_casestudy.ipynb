{
 "cells": [
  {
   "cell_type": "code",
   "execution_count": 1,
   "id": "436add63-efb6-47f0-9f57-6a9585a0e9db",
   "metadata": {},
   "outputs": [],
   "source": [
    "import pandas as pd\n",
    "import matplotlib.pyplot as plt\n",
    "import seaborn as sns "
   ]
  },
  {
   "cell_type": "code",
   "execution_count": 3,
   "id": "d3223516-0cba-499c-a8c5-edd961c90740",
   "metadata": {},
   "outputs": [],
   "source": [
    "df = pd.read_json('logins.json')"
   ]
  },
  {
   "cell_type": "code",
   "execution_count": 4,
   "id": "68b56d4b-94b9-4703-8510-d6207bfa10f7",
   "metadata": {},
   "outputs": [
    {
     "data": {
      "text/plain": [
       "<bound method DataFrame.info of                login_time\n",
       "0     1970-01-01 20:13:18\n",
       "1     1970-01-01 20:16:10\n",
       "2     1970-01-01 20:16:37\n",
       "3     1970-01-01 20:16:36\n",
       "4     1970-01-01 20:26:21\n",
       "...                   ...\n",
       "93137 1970-04-13 18:50:19\n",
       "93138 1970-04-13 18:43:56\n",
       "93139 1970-04-13 18:54:02\n",
       "93140 1970-04-13 18:57:38\n",
       "93141 1970-04-13 18:54:23\n",
       "\n",
       "[93142 rows x 1 columns]>"
      ]
     },
     "execution_count": 4,
     "metadata": {},
     "output_type": "execute_result"
    }
   ],
   "source": [
    "df.info"
   ]
  },
  {
   "cell_type": "code",
   "execution_count": 5,
   "id": "3584ae74-74e9-49fb-8f80-6d61c0b0dfb9",
   "metadata": {},
   "outputs": [
    {
     "data": {
      "text/plain": [
       "dtype('<M8[ns]')"
      ]
     },
     "execution_count": 5,
     "metadata": {},
     "output_type": "execute_result"
    }
   ],
   "source": [
    "df['login_time'].dtype"
   ]
  },
  {
   "cell_type": "code",
   "execution_count": 11,
   "id": "8d9cf086-3836-41b6-bf88-2a4611989ade",
   "metadata": {},
   "outputs": [],
   "source": [
    "df['count'] = 1"
   ]
  },
  {
   "cell_type": "code",
   "execution_count": 9,
   "id": "97a1c668-1d6e-424b-a8da-437cf811e1d3",
   "metadata": {},
   "outputs": [],
   "source": [
    "df.sort_values(by = ['login_time']);"
   ]
  },
  {
   "cell_type": "markdown",
   "id": "ab8be217-6efb-42c0-9eb5-6a4ba45c1401",
   "metadata": {},
   "source": [
    "Aggregate login counts based on 15 minute time intervals"
   ]
  },
  {
   "cell_type": "code",
   "execution_count": null,
   "id": "916d954b-e390-4dfc-9f5c-f602cea49612",
   "metadata": {},
   "outputs": [],
   "source": [
    "resampled_df = df.resample('15T').count()"
   ]
  }
 ],
 "metadata": {
  "kernelspec": {
   "display_name": "Python 3 (ipykernel)",
   "language": "python",
   "name": "python3"
  },
  "language_info": {
   "codemirror_mode": {
    "name": "ipython",
    "version": 3
   },
   "file_extension": ".py",
   "mimetype": "text/x-python",
   "name": "python",
   "nbconvert_exporter": "python",
   "pygments_lexer": "ipython3",
   "version": "3.10.13"
  }
 },
 "nbformat": 4,
 "nbformat_minor": 5
}
